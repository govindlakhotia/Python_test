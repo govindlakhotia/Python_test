{
  "nbformat": 4,
  "nbformat_minor": 0,
  "metadata": {
    "colab": {
      "provenance": []
    },
    "kernelspec": {
      "name": "python3",
      "display_name": "Python 3"
    },
    "language_info": {
      "name": "python"
    }
  },
  "cells": [
    {
      "cell_type": "code",
      "execution_count": null,
      "metadata": {
        "colab": {
          "base_uri": "https://localhost:8080/"
        },
        "id": "8ZlMh6wBFOcc",
        "outputId": "639d5809-5d4b-4a97-c0f4-0c795e4cea36"
      },
      "outputs": [
        {
          "output_type": "stream",
          "name": "stdout",
          "text": [
            "x = 3.00\n",
            "y = -2.00\n",
            "z = 1.00\n"
          ]
        }
      ],
      "source": [
        "#ANSWER 1\n",
        "\n",
        "import numpy as np\n",
        "\n",
        "# Coefficients of the equations\n",
        "coefficients = np.array([[1, 1, 1],\n",
        "                         [6, -4, 5],\n",
        "                         [5, 2, 2]])\n",
        "\n",
        "# Right-hand sides of the equations\n",
        "rhs = np.array([2, 31, 13])\n",
        "\n",
        "# Solve the system of equations\n",
        "solution = np.linalg.solve(coefficients, rhs)\n",
        "\n",
        "# Extracting the values of x, y, and z from the solution\n",
        "x = solution[0]\n",
        "y = solution[1]\n",
        "z = solution[2]\n",
        "\n",
        "print(f\"x = {x:.2f}\")\n",
        "print(f\"y = {y:.2f}\")\n",
        "print(f\"z = {z:.2f}\")"
      ]
    },
    {
      "cell_type": "code",
      "source": [
        "#ANSWER 2\n",
        "\n",
        "# Create the initial employee dictionary\n",
        "emp_dict = {\n",
        "    1: {\"Name\": \"ABC\", \"Education\": \"Graduate\", \"Gender\": \"Male\"},\n",
        "    2: {\"Name\": \"DEF\", \"Education\": \"Postgraduate\", \"Gender\": \"Female\"},\n",
        "    3: {\"Name\": \"GHI\", \"Education\": \"Postgraduate\", \"Gender\": \"Male\"},\n",
        "    4: {\"Name\": \"JKL\", \"Education\": \"Graduate\", \"Gender\": \"Other\"},\n",
        "    5: {\"Name\": \"MNO\", \"Education\": \"Graduate\", \"Gender\": \"Female\"},\n",
        "    6: {\"Name\": \"PQR\", \"Education\": \"Postgraduate\", \"Gender\": \"Female\"},\n",
        "    7: {\"Name\": \"STU\", \"Education\": \"Graduate\", \"Gender\": \"Male\"}\n",
        "}\n",
        "\n",
        "# Age information to update\n",
        "ages = [22, 27, 26, 23, 24, 30, 21]\n",
        "\n",
        "# Update the employee dictionary with age information\n",
        "for index, emp_id in enumerate(emp_dict.keys()):\n",
        "    emp_dict[emp_id][\"Age\"] = ages[index]\n",
        "\n",
        "# Print the updated employee dictionary\n",
        "for emp_id, emp_info in emp_dict.items():\n",
        "    print(f\"Employee ID: {emp_id}\")\n",
        "    for key, value in emp_info.items():\n",
        "        print(f\"{key}: {value}\")\n",
        "    print()"
      ],
      "metadata": {
        "colab": {
          "base_uri": "https://localhost:8080/"
        },
        "id": "XnTPTN2lGcaW",
        "outputId": "5fae6cf9-4c5f-4630-fa27-f886857209c7"
      },
      "execution_count": null,
      "outputs": [
        {
          "output_type": "stream",
          "name": "stdout",
          "text": [
            "Employee ID: 1\n",
            "Name: ABC\n",
            "Education: Graduate\n",
            "Gender: Male\n",
            "Age: 22\n",
            "\n",
            "Employee ID: 2\n",
            "Name: DEF\n",
            "Education: Postgraduate\n",
            "Gender: Female\n",
            "Age: 27\n",
            "\n",
            "Employee ID: 3\n",
            "Name: GHI\n",
            "Education: Postgraduate\n",
            "Gender: Male\n",
            "Age: 26\n",
            "\n",
            "Employee ID: 4\n",
            "Name: JKL\n",
            "Education: Graduate\n",
            "Gender: Other\n",
            "Age: 23\n",
            "\n",
            "Employee ID: 5\n",
            "Name: MNO\n",
            "Education: Graduate\n",
            "Gender: Female\n",
            "Age: 24\n",
            "\n",
            "Employee ID: 6\n",
            "Name: PQR\n",
            "Education: Postgraduate\n",
            "Gender: Female\n",
            "Age: 30\n",
            "\n",
            "Employee ID: 7\n",
            "Name: STU\n",
            "Education: Graduate\n",
            "Gender: Male\n",
            "Age: 21\n",
            "\n"
          ]
        }
      ]
    },
    {
      "cell_type": "code",
      "source": [
        "#ANSWER 3\n",
        "\n",
        "import pandas as pd\n",
        "import numpy as np\n",
        "\n",
        "emp_df = pd.DataFrame.from_dict(emp_dict, orient='index')\n",
        "\n",
        "# Adding the salary and bonus columns to the DataFrame\n",
        "salary_lakhs = [6, 15, 20, 5, 10, 18, 12]\n",
        "bonus_percent = [12.50, 8.75, 6.25, 10.20, 13.60, 11.40, 9.80]\n",
        "\n",
        "emp_df['Salary_Lakhs'] = salary_lakhs\n",
        "emp_df[\"Bonus%\"] = bonus_percent\n",
        "\n",
        "#Updating dataframe\n",
        "new_rows = {\n",
        "    8: {'Name': 'VWX', 'Education': 'Postgraduate', 'Gender': 'Male', 'Age': 35, 'Salary_Lakhs': 14, 'Bonus%': 5.50},\n",
        "    9: {'Name': 'YZA', 'Education': 'Graduate', 'Gender': 'Female', 'Age': 28, 'Salary_Lakhs': 7, 'Bonus%': 7.75},\n",
        "    10: {'Name': 'BCD', 'Education': 'Postgraduate', 'Gender': 'Other', 'Age': 32, 'Salary_Lakhs': 8, 'Bonus%': 14.80}\n",
        "}\n",
        "\n",
        "emp_df = emp_df.append(pd.DataFrame.from_dict(new_rows, orient='index'))\n",
        "\n",
        "# Adding the 'Gross_Salary_Lakhs' column based on the formula\n",
        "emp_df['Gross_Salary_Lakhs'] = emp_df['Salary_Lakhs'] * (1 + emp_df['Bonus%'] / 100)\n",
        "\n",
        "# Display the DataFrame\n",
        "print(emp_df)"
      ],
      "metadata": {
        "colab": {
          "base_uri": "https://localhost:8080/"
        },
        "id": "CiCauBgwGcco",
        "outputId": "73e4bdbe-5458-4c85-c01a-4e2cc07937c8"
      },
      "execution_count": null,
      "outputs": [
        {
          "output_type": "stream",
          "name": "stdout",
          "text": [
            "   Name     Education  Gender  Age  Salary_Lakhs  Bonus%  Gross_Salary_Lakhs\n",
            "1   ABC      Graduate    Male   22             6   12.50              6.7500\n",
            "2   DEF  Postgraduate  Female   27            15    8.75             16.3125\n",
            "3   GHI  Postgraduate    Male   26            20    6.25             21.2500\n",
            "4   JKL      Graduate   Other   23             5   10.20              5.5100\n",
            "5   MNO      Graduate  Female   24            10   13.60             11.3600\n",
            "6   PQR  Postgraduate  Female   30            18   11.40             20.0520\n",
            "7   STU      Graduate    Male   21            12    9.80             13.1760\n",
            "8   VWX  Postgraduate    Male   35            14    5.50             14.7700\n",
            "9   YZA      Graduate  Female   28             7    7.75              7.5425\n",
            "10  BCD  Postgraduate   Other   32             8   14.80              9.1840\n"
          ]
        },
        {
          "output_type": "stream",
          "name": "stderr",
          "text": [
            "<ipython-input-22-85494ba0c086>:22: FutureWarning: The frame.append method is deprecated and will be removed from pandas in a future version. Use pandas.concat instead.\n",
            "  emp_df = emp_df.append(pd.DataFrame.from_dict(new_rows, orient='index'))\n"
          ]
        }
      ]
    },
    {
      "cell_type": "code",
      "source": [
        "#ANSWER 4\n",
        "\n",
        "# Creating a subset emp_df_ss\n",
        "emp_df_ss = emp_df[['Name', 'Age', 'Gross_Salary_Lakhs']]\n",
        "\n",
        "# Display the subset DataFrame emp_df_ss\n",
        "print(emp_df_ss)"
      ],
      "metadata": {
        "colab": {
          "base_uri": "https://localhost:8080/"
        },
        "id": "puqb7TcIGcew",
        "outputId": "e18c2055-db2a-4519-fb24-26fc1832c0c7"
      },
      "execution_count": null,
      "outputs": [
        {
          "output_type": "stream",
          "name": "stdout",
          "text": [
            "   Name  Age  Gross_Salary_Lakhs\n",
            "1   ABC   22              6.7500\n",
            "2   DEF   27             16.3125\n",
            "3   GHI   26             21.2500\n",
            "4   JKL   23              5.5100\n",
            "5   MNO   24             11.3600\n",
            "6   PQR   30             20.0520\n",
            "7   STU   21             13.1760\n",
            "8   VWX   35             14.7700\n",
            "9   YZA   28              7.5425\n",
            "10  BCD   32              9.1840\n"
          ]
        }
      ]
    },
    {
      "cell_type": "code",
      "source": [
        "#ANSWER 5\n",
        "#5.1\n",
        "# Creating a copy of emp_df and sorting by 'Age' in descending order\n",
        "emp_df_age_sorted = emp_df.copy()\n",
        "emp_df_age_sorted = emp_df_age_sorted.sort_values(by='Age', ascending=False)\n",
        "\n",
        "# Display the sorted DataFrame emp_df_age_sorted\n",
        "print(emp_df_age_sorted)\n",
        "\n",
        "#5.2\n",
        "# Creating a copy of emp_df and sorting by 'Age' and 'Gross_Salary_Lakhs'\n",
        "emp_df_age_salary_sorted = emp_df.copy()\n",
        "emp_df_age_salary_sorted = emp_df_age_salary_sorted.sort_values(by='Age', ascending=True)\n",
        "\n",
        "# Display the sorted DataFrame emp_df_age_salary_sorted\n",
        "print('\\n')\n",
        "print(emp_df_age_salary_sorted)\n",
        "emp_df_age_salary_sorted = emp_df_age_salary_sorted.sort_values(by='Gross_Salary_Lakhs', ascending=False)\n",
        "\n",
        "# Display the sorted DataFrame emp_df_age_salary_sorted\n",
        "print('\\n')\n",
        "print(emp_df_age_salary_sorted)"
      ],
      "metadata": {
        "colab": {
          "base_uri": "https://localhost:8080/"
        },
        "id": "GSjJk9jyGcg1",
        "outputId": "a6519fe7-081f-4fc5-e4d5-ac912ec96548"
      },
      "execution_count": null,
      "outputs": [
        {
          "output_type": "stream",
          "name": "stdout",
          "text": [
            "   Name     Education  Gender  Age  Salary_Lakhs  Bonus%  Gross_Salary_Lakhs\n",
            "8   VWX  Postgraduate    Male   35            14    5.50             14.7700\n",
            "10  BCD  Postgraduate   Other   32             8   14.80              9.1840\n",
            "6   PQR  Postgraduate  Female   30            18   11.40             20.0520\n",
            "9   YZA      Graduate  Female   28             7    7.75              7.5425\n",
            "2   DEF  Postgraduate  Female   27            15    8.75             16.3125\n",
            "3   GHI  Postgraduate    Male   26            20    6.25             21.2500\n",
            "5   MNO      Graduate  Female   24            10   13.60             11.3600\n",
            "4   JKL      Graduate   Other   23             5   10.20              5.5100\n",
            "1   ABC      Graduate    Male   22             6   12.50              6.7500\n",
            "7   STU      Graduate    Male   21            12    9.80             13.1760\n",
            "\n",
            "\n",
            "   Name     Education  Gender  Age  Salary_Lakhs  Bonus%  Gross_Salary_Lakhs\n",
            "7   STU      Graduate    Male   21            12    9.80             13.1760\n",
            "1   ABC      Graduate    Male   22             6   12.50              6.7500\n",
            "4   JKL      Graduate   Other   23             5   10.20              5.5100\n",
            "5   MNO      Graduate  Female   24            10   13.60             11.3600\n",
            "3   GHI  Postgraduate    Male   26            20    6.25             21.2500\n",
            "2   DEF  Postgraduate  Female   27            15    8.75             16.3125\n",
            "9   YZA      Graduate  Female   28             7    7.75              7.5425\n",
            "6   PQR  Postgraduate  Female   30            18   11.40             20.0520\n",
            "10  BCD  Postgraduate   Other   32             8   14.80              9.1840\n",
            "8   VWX  Postgraduate    Male   35            14    5.50             14.7700\n",
            "\n",
            "\n",
            "   Name     Education  Gender  Age  Salary_Lakhs  Bonus%  Gross_Salary_Lakhs\n",
            "3   GHI  Postgraduate    Male   26            20    6.25             21.2500\n",
            "6   PQR  Postgraduate  Female   30            18   11.40             20.0520\n",
            "2   DEF  Postgraduate  Female   27            15    8.75             16.3125\n",
            "8   VWX  Postgraduate    Male   35            14    5.50             14.7700\n",
            "7   STU      Graduate    Male   21            12    9.80             13.1760\n",
            "5   MNO      Graduate  Female   24            10   13.60             11.3600\n",
            "10  BCD  Postgraduate   Other   32             8   14.80              9.1840\n",
            "9   YZA      Graduate  Female   28             7    7.75              7.5425\n",
            "1   ABC      Graduate    Male   22             6   12.50              6.7500\n",
            "4   JKL      Graduate   Other   23             5   10.20              5.5100\n"
          ]
        }
      ]
    },
    {
      "cell_type": "code",
      "source": [
        "#ANSWER 6\n",
        "\n",
        "#6.1\n",
        "# Filtering emp_df based on the condition\n",
        "emp_df_filtered = emp_df[(emp_df['Age'] >= 25) & (emp_df['Gender'] == 'Female')]\n",
        "\n",
        "# Display the filtered DataFrame emp_df_filtered\n",
        "print(emp_df_filtered)\n",
        "\n",
        "#6.2\n",
        "# Creating subsets emp_df_grad and emp_df_postgrad\n",
        "emp_df_grad = emp_df[emp_df['Education'] == 'Graduate']\n",
        "emp_df_postgrad = emp_df[emp_df['Education'] == 'Postgraduate']\n",
        "\n",
        "# Display the subsets\n",
        "print(\"\\nSubset of Graduates:\")\n",
        "print(emp_df_grad)\n",
        "\n",
        "print(\"\\nSubset of Postgraduates:\")\n",
        "print(emp_df_postgrad)"
      ],
      "metadata": {
        "colab": {
          "base_uri": "https://localhost:8080/"
        },
        "id": "p1KQCslJGci7",
        "outputId": "d4668870-5aad-46e1-f30a-11cacfb4e94c"
      },
      "execution_count": null,
      "outputs": [
        {
          "output_type": "stream",
          "name": "stdout",
          "text": [
            "  Name     Education  Gender  Age  Salary_Lakhs  Bonus%  Gross_Salary_Lakhs\n",
            "2  DEF  Postgraduate  Female   27            15    8.75             16.3125\n",
            "6  PQR  Postgraduate  Female   30            18   11.40             20.0520\n",
            "9  YZA      Graduate  Female   28             7    7.75              7.5425\n",
            "\n",
            "Subset of Graduates:\n",
            "  Name Education  Gender  Age  Salary_Lakhs  Bonus%  Gross_Salary_Lakhs\n",
            "1  ABC  Graduate    Male   22             6   12.50              6.7500\n",
            "4  JKL  Graduate   Other   23             5   10.20              5.5100\n",
            "5  MNO  Graduate  Female   24            10   13.60             11.3600\n",
            "7  STU  Graduate    Male   21            12    9.80             13.1760\n",
            "9  YZA  Graduate  Female   28             7    7.75              7.5425\n",
            "\n",
            "Subset of Postgraduates:\n",
            "   Name     Education  Gender  Age  Salary_Lakhs  Bonus%  Gross_Salary_Lakhs\n",
            "2   DEF  Postgraduate  Female   27            15    8.75             16.3125\n",
            "3   GHI  Postgraduate    Male   26            20    6.25             21.2500\n",
            "6   PQR  Postgraduate  Female   30            18   11.40             20.0520\n",
            "8   VWX  Postgraduate    Male   35            14    5.50             14.7700\n",
            "10  BCD  Postgraduate   Other   32             8   14.80              9.1840\n"
          ]
        }
      ]
    },
    {
      "cell_type": "code",
      "source": [
        "#ANSWER 7\n",
        "\n",
        "# Creating subsets emp_df_grad and emp_df_postgrad\n",
        "emp_df_grad = emp_df[emp_df['Education'] == 'Graduate']\n",
        "emp_df_postgrad = emp_df[emp_df['Education'] == 'Postgraduate']\n",
        "\n",
        "# Merging the subsets based on 'Gender'\n",
        "emp_df_merged = pd.merge(emp_df_grad[['Name', 'Gender', 'Age']], emp_df_postgrad[['Name', 'Gender', 'Gross_Salary_Lakhs']], on='Gender', how='inner')\n",
        "\n",
        "# Display the merged DataFrame emp_df_merged\n",
        "print(emp_df_merged)"
      ],
      "metadata": {
        "colab": {
          "base_uri": "https://localhost:8080/"
        },
        "id": "eOD_wxScGclQ",
        "outputId": "8aeaa93e-0543-43f7-c4c1-5158fa5d2203"
      },
      "execution_count": null,
      "outputs": [
        {
          "output_type": "stream",
          "name": "stdout",
          "text": [
            "  Name_x  Gender  Age Name_y  Gross_Salary_Lakhs\n",
            "0    ABC    Male   22    GHI             21.2500\n",
            "1    ABC    Male   22    VWX             14.7700\n",
            "2    STU    Male   21    GHI             21.2500\n",
            "3    STU    Male   21    VWX             14.7700\n",
            "4    JKL   Other   23    BCD              9.1840\n",
            "5    MNO  Female   24    DEF             16.3125\n",
            "6    MNO  Female   24    PQR             20.0520\n",
            "7    YZA  Female   28    DEF             16.3125\n",
            "8    YZA  Female   28    PQR             20.0520\n"
          ]
        }
      ]
    },
    {
      "cell_type": "code",
      "source": [
        "#ANSWER 8\n",
        "#8.1\n",
        "# Grouping emp_df by 'Gender' and 'Education' and calculating the count of employees\n",
        "emp_df_gen_edu = emp_df.groupby(['Gender', 'Education']).size().reset_index(name='Count')\n",
        "\n",
        "# Display the grouped table emp_df_gen_edu\n",
        "print(emp_df_gen_edu)\n",
        "\n",
        "#8.2\n",
        "# Grouping emp_df by 'Gender' and calculating the average of 'Age' and 'Gross_Salary_Lakhs'\n",
        "emp_df_gen_age_sal = emp_df.groupby('Gender')['Age', 'Gross_Salary_Lakhs'].mean().reset_index()\n",
        "\n",
        "# Display the grouped table emp_df_gen_age_sal\n",
        "print(\"\\n\")\n",
        "print(emp_df_gen_age_sal)"
      ],
      "metadata": {
        "colab": {
          "base_uri": "https://localhost:8080/"
        },
        "id": "fXAmUR8yGcnW",
        "outputId": "026f1d20-3fee-47ab-e682-344a5c570751"
      },
      "execution_count": null,
      "outputs": [
        {
          "output_type": "stream",
          "name": "stdout",
          "text": [
            "   Gender     Education  Count\n",
            "0  Female      Graduate      2\n",
            "1  Female  Postgraduate      2\n",
            "2    Male      Graduate      2\n",
            "3    Male  Postgraduate      2\n",
            "4   Other      Graduate      1\n",
            "5   Other  Postgraduate      1\n",
            "\n",
            "\n",
            "   Gender    Age  Gross_Salary_Lakhs\n",
            "0  Female  27.25            13.81675\n",
            "1    Male  26.00            13.98650\n",
            "2   Other  27.50             7.34700\n"
          ]
        },
        {
          "output_type": "stream",
          "name": "stderr",
          "text": [
            "<ipython-input-34-d1f15717752b>:11: FutureWarning: Indexing with multiple keys (implicitly converted to a tuple of keys) will be deprecated, use a list instead.\n",
            "  emp_df_gen_age_sal = emp_df.groupby('Gender')['Age', 'Gross_Salary_Lakhs'].mean().reset_index()\n"
          ]
        }
      ]
    },
    {
      "cell_type": "code",
      "source": [
        "#ANSWER 9\n",
        "\n",
        "import pandas as pd\n",
        "\n",
        "# Create the Cross-Sectional DataFrame\n",
        "data = {\n",
        "    'Company': ['ZYX', 'WVU', 'TSR'],\n",
        "    '2023': [123, 456, 789],\n",
        "    '2024': [321, 654, 987]\n",
        "}\n",
        "\n",
        "df_cross_section = pd.DataFrame(data)\n",
        "\n",
        "# Melt the Cross-Sectional DataFrame to long format\n",
        "melted_df = pd.melt(df_cross_section, id_vars='Company', var_name='Year', value_name='Profit')\n",
        "\n",
        "# Convert to a MultiIndex DataFrame\n",
        "df_panel = melted_df.set_index(['Company', 'Year'])\n",
        "\n",
        "# Display the resulting MultiIndex DataFrame (simulated panel data)\n",
        "print(df_panel)"
      ],
      "metadata": {
        "colab": {
          "base_uri": "https://localhost:8080/"
        },
        "id": "hcCApLlOGcpq",
        "outputId": "b6f87e26-4ab7-45a9-a4da-a0b4bb56701b"
      },
      "execution_count": null,
      "outputs": [
        {
          "output_type": "stream",
          "name": "stdout",
          "text": [
            "              Profit\n",
            "Company Year        \n",
            "ZYX     2023     123\n",
            "WVU     2023     456\n",
            "TSR     2023     789\n",
            "ZYX     2024     321\n",
            "WVU     2024     654\n",
            "TSR     2024     987\n"
          ]
        }
      ]
    },
    {
      "cell_type": "code",
      "source": [],
      "metadata": {
        "id": "8FrF9bPlGcrv"
      },
      "execution_count": null,
      "outputs": []
    },
    {
      "cell_type": "code",
      "source": [],
      "metadata": {
        "id": "9ikSGtTpGct1"
      },
      "execution_count": null,
      "outputs": []
    },
    {
      "cell_type": "code",
      "source": [],
      "metadata": {
        "id": "0ub8zNacGcwe"
      },
      "execution_count": null,
      "outputs": []
    },
    {
      "cell_type": "code",
      "source": [],
      "metadata": {
        "id": "tUewHZ9KGczC"
      },
      "execution_count": null,
      "outputs": []
    },
    {
      "cell_type": "code",
      "source": [],
      "metadata": {
        "id": "9zRbKpF0Gc1q"
      },
      "execution_count": null,
      "outputs": []
    }
  ]
}