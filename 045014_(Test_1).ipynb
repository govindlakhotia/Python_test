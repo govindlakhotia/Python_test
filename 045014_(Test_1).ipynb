{
  "nbformat": 4,
  "nbformat_minor": 0,
  "metadata": {
    "colab": {
      "provenance": []
    },
    "kernelspec": {
      "name": "python3",
      "display_name": "Python 3"
    },
    "language_info": {
      "name": "python"
    }
  },
  "cells": [
    {
      "cell_type": "code",
      "execution_count": null,
      "metadata": {
        "id": "VXFOZrg20tcS",
        "colab": {
          "base_uri": "https://localhost:8080/"
        },
        "outputId": "a2a6546f-d269-44c6-bea4-edaba7b86d85"
      },
      "outputs": [
        {
          "output_type": "stream",
          "name": "stdout",
          "text": [
            "Enter a word: truffle\n",
            "Number of Unique Letters = 2\n",
            "(6, {'t': 1, 'r': 1, 'u': 1, 'f': 2, 'l': 1, 'e': 1})\n"
          ]
        }
      ],
      "source": [
        "#ANSWER 1\n",
        "\n",
        "def count_unique_letters(word):\n",
        "    word = word.lower()  # Convert the word to lowercase to ignore case sensitivity\n",
        "    letter_count = {}     # Dictionary to store letter frequencies\n",
        "\n",
        "    for letter in word:\n",
        "        if letter.isalpha():\n",
        "            if letter in letter_count:\n",
        "                letter_count[letter] += 1\n",
        "            else:\n",
        "                letter_count[letter] = 1\n",
        "\n",
        "    unique_count = len(letter_count)\n",
        "\n",
        "    return unique_count, letter_count\n",
        "\n",
        "input_word = input(\"Enter a word: \")\n",
        "unique_letter_count = count_unique_letters(input_word)\n",
        "\n",
        "print(f\"Number of Unique Letters = {len(unique_letter_count)}\")\n",
        "print(unique_letter_count)"
      ]
    },
    {
      "cell_type": "code",
      "source": [
        "#ANSWER 2\n",
        "\n",
        "import random\n",
        "\n",
        "def calculate_evaluation(total_marks):\n",
        "    class_test_weight = 0.10\n",
        "    mid_term_weight = 0.20\n",
        "    project_weight = 0.30\n",
        "    end_term_weight = 0.40\n",
        "\n",
        "    class_test_marks = round(total_marks * class_test_weight)\n",
        "    mid_term_marks = round(total_marks * mid_term_weight)\n",
        "    project_marks = round(total_marks * project_weight)\n",
        "    end_term_marks = round(total_marks * end_term_weight)\n",
        "\n",
        "    return class_test_marks, mid_term_marks, project_marks, end_term_marks\n",
        "\n",
        "total_marks = random.randint(10, 90)\n",
        "class_test, mid_term, project, end_term = calculate_evaluation(total_marks)\n",
        "\n",
        "print(\"Input =\", total_marks)\n",
        "print(\"Class_Test =\", class_test, \"marks\")\n",
        "print(\"Mid_Term =\", mid_term, \"marks\")\n",
        "print(\"Project =\", project, \"marks\")\n",
        "print(\"End_Term =\", end_term, \"marks\")"
      ],
      "metadata": {
        "colab": {
          "base_uri": "https://localhost:8080/"
        },
        "id": "Bxd_04k8QKJB",
        "outputId": "98ac1b08-55d7-4446-e58d-7e28daba604c"
      },
      "execution_count": null,
      "outputs": [
        {
          "output_type": "stream",
          "name": "stdout",
          "text": [
            "Input = 41\n",
            "Class_Test = 4 marks\n",
            "Mid_Term = 8 marks\n",
            "Project = 12 marks\n",
            "End_Term = 16 marks\n"
          ]
        }
      ]
    },
    {
      "cell_type": "code",
      "source": [
        "#ANSWER 3\n",
        "\n",
        "def common_letters(word1, word2):\n",
        "    word1 = word1.lower()\n",
        "    word2 = word2.lower()\n",
        "\n",
        "    common_letters_set = set(word1) & set(word2)\n",
        "    common_letters_list = sorted(list(common_letters_set))\n",
        "\n",
        "    return common_letters_list\n",
        "\n",
        "input_word1 = input(\"Input 1: \")\n",
        "input_word2 = input(\"Input 2: \")\n",
        "\n",
        "common_letters_result = common_letters(input_word1, input_word2)\n",
        "\n",
        "if common_letters_result:\n",
        "    print(\"Output:\", common_letters_result)\n",
        "else:\n",
        "    print(\"Output: null\")"
      ],
      "metadata": {
        "colab": {
          "base_uri": "https://localhost:8080/"
        },
        "id": "XXClX02VQKWP",
        "outputId": "8f76cee8-f015-4e7a-9868-ff426d572acc"
      },
      "execution_count": null,
      "outputs": [
        {
          "output_type": "stream",
          "name": "stdout",
          "text": [
            "Input 1: govind\n",
            "Input 2: ash\n",
            "Output: null\n"
          ]
        }
      ]
    },
    {
      "cell_type": "code",
      "source": [
        "#ANSWER 4\n",
        "\n",
        "import random\n",
        "\n",
        "def calculate_grade(score):\n",
        "    if score < 40:\n",
        "        return 'Grade F'\n",
        "    elif 40 <= score <= 59:\n",
        "        return 'Grade C'\n",
        "    elif 60 <= score <= 84:\n",
        "        return 'Grade B'\n",
        "    else:\n",
        "        return 'Grade A'\n",
        "\n",
        "random_score = random.randint(0, 100)\n",
        "grade = calculate_grade(random_score)\n",
        "\n",
        "print(\"The score:\", random_score)\n",
        "print(grade)"
      ],
      "metadata": {
        "colab": {
          "base_uri": "https://localhost:8080/"
        },
        "id": "pYFrPYvyQKZp",
        "outputId": "37c2a54e-19de-4c60-b0b1-9e249f92f9bc"
      },
      "execution_count": null,
      "outputs": [
        {
          "output_type": "stream",
          "name": "stdout",
          "text": [
            "The score: 0\n",
            "Grade F\n"
          ]
        }
      ]
    },
    {
      "cell_type": "code",
      "source": [
        "#ANSWER 5\n",
        "\n",
        "import random\n",
        "\n",
        "def is_prime(num):\n",
        "    if num <= 1:\n",
        "        return False\n",
        "    if num <= 3:\n",
        "        return True\n",
        "    if num % 2 == 0 or num % 3 == 0:\n",
        "        return False\n",
        "    i = 5\n",
        "    while i * i <= num:\n",
        "        if num % i == 0 or num % (i + 2) == 0:\n",
        "            return False\n",
        "        i += 6\n",
        "    return True\n",
        "\n",
        "random_number = random.randint(1, 99)\n",
        "even_numbers = [num for num in range(2, random_number+1) if num % 2 == 0]\n",
        "odd_numbers = [num for num in range(1, random_number+1) if num % 2 == 1]\n",
        "prime_numbers = [num for num in range(2, random_number+1) if is_prime(num)]\n",
        "\n",
        "print(\"The random number:\", random_number)\n",
        "print(\"List of even numbers up to the random number:\", even_numbers)\n",
        "print(\"List of odd numbers up to the random number:\", odd_numbers)\n",
        "print(\"List of prime numbers up to the random number:\", prime_numbers)"
      ],
      "metadata": {
        "colab": {
          "base_uri": "https://localhost:8080/"
        },
        "id": "5DBka_L5QKcT",
        "outputId": "135ca7f3-d51b-466f-cf26-77d8c68aa103"
      },
      "execution_count": null,
      "outputs": [
        {
          "output_type": "stream",
          "name": "stdout",
          "text": [
            "The random number: 47\n",
            "List of even numbers up to the random number: [2, 4, 6, 8, 10, 12, 14, 16, 18, 20, 22, 24, 26, 28, 30, 32, 34, 36, 38, 40, 42, 44, 46]\n",
            "List of odd numbers up to the random number: [1, 3, 5, 7, 9, 11, 13, 15, 17, 19, 21, 23, 25, 27, 29, 31, 33, 35, 37, 39, 41, 43, 45, 47]\n",
            "List of prime numbers up to the random number: [2, 3, 5, 7, 11, 13, 17, 19, 23, 29, 31, 37, 41, 43, 47]\n"
          ]
        }
      ]
    },
    {
      "cell_type": "code",
      "source": [
        "#ANSWER 6\n",
        "\n",
        "import random\n",
        "\n",
        "random_number = random.randint(1000, 9999)\n",
        "\n",
        "thousands_digit = random_number // 1000\n",
        "hundreds_digit = (random_number // 100) % 10\n",
        "tens_digit = (random_number // 10) % 10\n",
        "ones_digit = random_number % 10\n",
        "\n",
        "digit_place_mapping = {\n",
        "    thousands_digit: \"Thousands\",\n",
        "    hundreds_digit: \"Hundreds\",\n",
        "    tens_digit: \"Tens\",\n",
        "    ones_digit: \"Ones\"\n",
        "}\n",
        "\n",
        "print(\"Input:\", random_number)\n",
        "print(\"Output:\", digit_place_mapping)"
      ],
      "metadata": {
        "colab": {
          "base_uri": "https://localhost:8080/"
        },
        "id": "GhlOFkMKQKfI",
        "outputId": "651430f9-4df5-45c2-aaea-38edaa4ff2ae"
      },
      "execution_count": null,
      "outputs": [
        {
          "output_type": "stream",
          "name": "stdout",
          "text": [
            "Input: 8230\n",
            "Output: {8: 'Thousands', 2: 'Hundreds', 3: 'Tens', 0: 'Ones'}\n"
          ]
        }
      ]
    },
    {
      "cell_type": "code",
      "source": [
        "#ANSWER 7\n",
        "\n",
        "import random\n",
        "\n",
        "random_numbers = [random.randint(-9, 9) for _ in range(5)]\n",
        "sum_of_numbers = sum(random_numbers)\n",
        "\n",
        "print(\"List of 5 random numbers:\", random_numbers)\n",
        "print(\"Sum of the random numbers:\", sum_of_numbers)"
      ],
      "metadata": {
        "colab": {
          "base_uri": "https://localhost:8080/"
        },
        "id": "wcA-pQw0TfD4",
        "outputId": "faf89bb3-9244-46dd-cbf8-b81ef788571d"
      },
      "execution_count": null,
      "outputs": [
        {
          "output_type": "stream",
          "name": "stdout",
          "text": [
            "List of 5 random numbers: [3, 3, 0, 8, -4]\n",
            "Sum of the random numbers: 10\n"
          ]
        }
      ]
    },
    {
      "cell_type": "code",
      "source": [
        "#ANSWER 8\n",
        "\n",
        "from datetime import datetime\n",
        "\n",
        "def calculate_age(date_str):\n",
        "    today = datetime.today()\n",
        "\n",
        "    # Convert the input date to a datetime object\n",
        "    if '-' in date_str:\n",
        "        input_date = datetime.strptime(date_str, '%d-%m-%Y')\n",
        "    else:\n",
        "        input_date = datetime.strptime(date_str, '%B %d, %Y')\n",
        "\n",
        "    # Calculate the difference between the dates\n",
        "    age_delta = today - input_date\n",
        "\n",
        "    # Calculate years, months, and days\n",
        "    years = age_delta.days // 365\n",
        "    months = (age_delta.days % 365) // 30\n",
        "    days = (age_delta.days % 365) % 30\n",
        "\n",
        "    return {'Years': years, 'Months': months, 'Days': days}\n",
        "\n",
        "input_date = input(\"Input: \")\n",
        "age = calculate_age(input_date)\n",
        "\n",
        "print(\"Output:\", age, \"(As on\", datetime.today().strftime('%b %d, %Y'), \")\")"
      ],
      "metadata": {
        "colab": {
          "base_uri": "https://localhost:8080/"
        },
        "id": "Qp7fC8XSTfGO",
        "outputId": "2ef06618-da64-4991-dac9-f74003e0abf1"
      },
      "execution_count": null,
      "outputs": [
        {
          "output_type": "stream",
          "name": "stdout",
          "text": [
            "Input: 15-12-1998\n",
            "Output: {'Years': 24, 'Months': 8, 'Days': 15} (As on Aug 21, 2023 )\n"
          ]
        }
      ]
    },
    {
      "cell_type": "code",
      "source": [
        "#ANSWER 9\n",
        "\n",
        "def generate_diamond_pattern(size):\n",
        "    for i in range(1, size + 1):\n",
        "        print(\" \" * (size - i) + \"* \" * i)\n",
        "\n",
        "    for i in range(size - 1, 0, -1):\n",
        "        print(\" \" * (size - i) + \"* \" * i)\n",
        "\n",
        "size = int(input(\"Enter the size of the diamond: \"))\n",
        "generate_diamond_pattern(size)"
      ],
      "metadata": {
        "colab": {
          "base_uri": "https://localhost:8080/"
        },
        "id": "9iu3ooMuTfIn",
        "outputId": "b84e3049-d83d-4f49-a02d-5999aad43fca"
      },
      "execution_count": null,
      "outputs": [
        {
          "output_type": "stream",
          "name": "stdout",
          "text": [
            "Enter the size of the diamond: 5\n",
            "    * \n",
            "   * * \n",
            "  * * * \n",
            " * * * * \n",
            "* * * * * \n",
            " * * * * \n",
            "  * * * \n",
            "   * * \n",
            "    * \n"
          ]
        }
      ]
    },
    {
      "cell_type": "code",
      "source": [
        "#ANSWER 10\n",
        "\n",
        "import random\n",
        "\n",
        "def create_connection_network(list_a, list_b):\n",
        "    connection_network = {}\n",
        "\n",
        "    for source, destination in zip(list_a, list_b):\n",
        "        if source not in connection_network:\n",
        "            connection_network[source] = []\n",
        "        connection_network[source].append(destination)\n",
        "\n",
        "        if destination not in connection_network:\n",
        "            connection_network[destination] = []\n",
        "        connection_network[destination].append(source)\n",
        "\n",
        "    return connection_network\n",
        "\n",
        "# Create a list of 10 random letters (List A)\n",
        "list_a = random.choices('abcdefghijklmnopqrstuvwxyz', k=10)\n",
        "\n",
        "# Create a copy of List A (List B)\n",
        "list_b = list(list_a)\n",
        "\n",
        "# Display original List A and List B\n",
        "print(\"Original List A:\", list_a)\n",
        "print(\"Original List B:\", list_b)\n",
        "\n",
        "# Shuffle both List A & B\n",
        "random.shuffle(list_a)\n",
        "random.shuffle(list_b)\n",
        "\n",
        "# Display shuffled List A and List B\n",
        "print(\"Shuffled List A:\", list_a)\n",
        "print(\"Shuffled List B:\", list_b)\n",
        "\n",
        "# Create the connection network\n",
        "network = create_connection_network(list_a, list_b)\n",
        "\n",
        "# Function to inquire about connected elements\n",
        "def inquire(element):\n",
        "    if element in network:\n",
        "        connected_elements = network[element]\n",
        "        return connected_elements\n",
        "    else:\n",
        "        return []\n",
        "\n",
        "# Test inquiries for each element in List A\n",
        "for element in list_a:\n",
        "    connected_elements = inquire(element)\n",
        "    print(f\"Element '{element}' is connected to:\", connected_elements)"
      ],
      "metadata": {
        "colab": {
          "base_uri": "https://localhost:8080/"
        },
        "id": "2TlxcXzxTfLN",
        "outputId": "5bd4451e-6207-4cbd-f677-69739f144e6d"
      },
      "execution_count": null,
      "outputs": [
        {
          "output_type": "stream",
          "name": "stdout",
          "text": [
            "Original List A: ['p', 'a', 's', 'm', 'f', 'y', 'z', 'q', 'u', 'x']\n",
            "Original List B: ['p', 'a', 's', 'm', 'f', 'y', 'z', 'q', 'u', 'x']\n",
            "Shuffled List A: ['u', 's', 'a', 'x', 'q', 'y', 'p', 'm', 'z', 'f']\n",
            "Shuffled List B: ['p', 'a', 'z', 'm', 'x', 'y', 'u', 's', 'f', 'q']\n",
            "Element 'u' is connected to: ['p', 'p']\n",
            "Element 's' is connected to: ['a', 'm']\n",
            "Element 'a' is connected to: ['s', 'z']\n",
            "Element 'x' is connected to: ['m', 'q']\n",
            "Element 'q' is connected to: ['x', 'f']\n",
            "Element 'y' is connected to: ['y', 'y']\n",
            "Element 'p' is connected to: ['u', 'u']\n",
            "Element 'm' is connected to: ['x', 's']\n",
            "Element 'z' is connected to: ['a', 'f']\n",
            "Element 'f' is connected to: ['z', 'q']\n"
          ]
        }
      ]
    }
  ]
}